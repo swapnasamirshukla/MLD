{
  "nbformat": 4,
  "nbformat_minor": 0,
  "metadata": {
    "colab": {
      "name": "Exception_Handling.ipynb",
      "provenance": [],
      "collapsed_sections": [],
      "authorship_tag": "ABX9TyO+Fyc02pSuxOK0aVbcbUyn",
      "include_colab_link": true
    },
    "kernelspec": {
      "name": "python3",
      "display_name": "Python 3"
    }
  },
  "cells": [
    {
      "cell_type": "markdown",
      "metadata": {
        "id": "view-in-github",
        "colab_type": "text"
      },
      "source": [
        "<a href=\"https://colab.research.google.com/github/swapnasamirshukla/MLD/blob/main/Exception_Handling.ipynb\" target=\"_parent\"><img src=\"https://colab.research.google.com/assets/colab-badge.svg\" alt=\"Open In Colab\"/></a>"
      ]
    },
    {
      "cell_type": "markdown",
      "metadata": {
        "id": "tCw6aWPBiIEQ"
      },
      "source": [
        "Q1: Write a function to compute 5/0 and use try/except to catch the exceptions."
      ]
    },
    {
      "cell_type": "code",
      "metadata": {
        "id": "LKRyB7dShw29"
      },
      "source": [
        "def divbyzero():\r\n",
        "  try:\r\n",
        "    arr=list(map(int,input(\"Enter 2 numbers separated by spaces :\").split(\" \")))\r\n",
        "  except ValueError:\r\n",
        "    print(\"One or both of the Values is not an integer. Please Enter again\")\r\n",
        "    divbyzero()\r\n",
        "  else:\r\n",
        "    try:\r\n",
        "      print(arr[0]/arr[1])\r\n",
        "    except IndexError:\r\n",
        "      print('You have entered only a single number. Please enter again')\r\n",
        "      divbyzero()\r\n",
        "    except ZeroDivisionError:\r\n",
        "      print('Divisor is Zero. Please Correct')\r\n",
        "      divbyzero()\r\n",
        "    except Exception as e:\r\n",
        "      print(e)"
      ],
      "execution_count": null,
      "outputs": []
    },
    {
      "cell_type": "code",
      "metadata": {
        "colab": {
          "base_uri": "https://localhost:8080/"
        },
        "id": "22tmN9RvilvO",
        "outputId": "580ff327-2a91-4fd1-8164-ff33bbb07b82"
      },
      "source": [
        "divbyzero()"
      ],
      "execution_count": null,
      "outputs": [
        {
          "output_type": "stream",
          "text": [
            "Enter 2 numbers separated by spaces :0 0\n",
            "Divisor is Zero. Please Correct\n",
            "Enter 2 numbers separated by spaces :9 0\n",
            "Divisor is Zero. Please Correct\n",
            "Enter 2 numbers separated by spaces :ee 56\n",
            "One or both of the Values is not an integer. Please Enter again\n",
            "Enter 2 numbers separated by spaces :56\n",
            "You have entered only a single number. Please enter again\n",
            "Enter 2 numbers separated by spaces :56 22222222222222222\n",
            "2.52e-15\n"
          ],
          "name": "stdout"
        }
      ]
    },
    {
      "cell_type": "markdown",
      "metadata": {
        "id": "jQZsDPfJjfIQ"
      },
      "source": [
        "Q2: Implement a Python program to generate all sentences where subject is in\r\n",
        "[\"Americans\", \"Indians\"] and verb is in [\"Play\", \"watch\"] and the object is in\r\n",
        "[\"Baseball\",\"cricket\"].\r\n",
        "\r\n",
        "Hint: Subject,Verb and Object should be declared in the program as shown below.\r\n",
        "subjects=[\"Americans \",\"Indians\"] \r\n",
        "\r\n",
        "verbs=[\"play\",\"watch\"]\r\n",
        "objects=[\"Baseball\",\"Cricket\"]"
      ]
    },
    {
      "cell_type": "code",
      "metadata": {
        "id": "ar1q4zFtjkQZ"
      },
      "source": [
        "subjects=[\"Americans\",\"Indians\"] \r\n",
        "verbs=[\"play\",\"watch\"]\r\n",
        "objects=[\"Baseball\",\"Cricket\"]"
      ],
      "execution_count": null,
      "outputs": []
    },
    {
      "cell_type": "code",
      "metadata": {
        "colab": {
          "base_uri": "https://localhost:8080/"
        },
        "id": "V77gFnzaj4X-",
        "outputId": "9a202862-979a-425a-aee5-1e6954da088f"
      },
      "source": [
        "print(*[sub+\" \"+v+\" \"+obj+\".\" for sub in subjects for v in verbs for obj in objects], sep = \"\\n\")"
      ],
      "execution_count": null,
      "outputs": [
        {
          "output_type": "stream",
          "text": [
            "Americans  play Baseball.\n",
            "Americans  play Cricket.\n",
            "Americans  watch Baseball.\n",
            "Americans  watch Cricket.\n",
            "Indians play Baseball.\n",
            "Indians play Cricket.\n",
            "Indians watch Baseball.\n",
            "Indians watch Cricket.\n"
          ],
          "name": "stdout"
        }
      ]
    }
  ]
}
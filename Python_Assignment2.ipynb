{
  "nbformat": 4,
  "nbformat_minor": 0,
  "metadata": {
    "colab": {
      "name": "Python_Assignment2.ipynb",
      "provenance": [],
      "collapsed_sections": [],
      "authorship_tag": "ABX9TyMC9u8zBFHM8gf+lQ7Udfha",
      "include_colab_link": true
    },
    "kernelspec": {
      "name": "python3",
      "display_name": "Python 3"
    }
  },
  "cells": [
    {
      "cell_type": "markdown",
      "metadata": {
        "id": "view-in-github",
        "colab_type": "text"
      },
      "source": [
        "<a href=\"https://colab.research.google.com/github/swapnasamirshukla/MLD/blob/main/Python_Assignment2.ipynb\" target=\"_parent\"><img src=\"https://colab.research.google.com/assets/colab-badge.svg\" alt=\"Open In Colab\"/></a>"
      ]
    },
    {
      "cell_type": "markdown",
      "metadata": {
        "id": "E72QNzCDsccj"
      },
      "source": [
        "Q1.Create the below pattern using nested for loop in Python.\r\n",
        "\r\n",
        "#*\r\n",
        "###* *\r\n",
        "###* * *\r\n",
        "###* * * *\r\n",
        "###* * * * *\r\n",
        "###* * * *\r\n",
        "###* * *\r\n",
        "##* *\r\n",
        "#*"
      ]
    },
    {
      "cell_type": "code",
      "metadata": {
        "colab": {
          "base_uri": "https://localhost:8080/"
        },
        "id": "gshxZHQTso6B",
        "outputId": "5034ad79-c830-4823-ac78-7a81551b10d3"
      },
      "source": [
        "for j in range(2):\r\n",
        "  if(j<1):\r\n",
        "    for i in range(5):\r\n",
        "      print('*'*(i+1))\r\n",
        "  else:\r\n",
        "    for i in range(4,0,-1):\r\n",
        "      print('*'*i)"
      ],
      "execution_count": null,
      "outputs": [
        {
          "output_type": "stream",
          "text": [
            "*\n",
            "**\n",
            "***\n",
            "****\n",
            "*****\n",
            "****\n",
            "***\n",
            "**\n",
            "*\n"
          ],
          "name": "stdout"
        }
      ]
    },
    {
      "cell_type": "markdown",
      "metadata": {
        "id": "UrbHkdAcxDSO"
      },
      "source": [
        "Q2:Write a Python program to reverse a word after accepting the input from the user."
      ]
    },
    {
      "cell_type": "code",
      "metadata": {
        "colab": {
          "base_uri": "https://localhost:8080/"
        },
        "id": "z6O7D6Fav_ZW",
        "outputId": "c6421ca3-73bd-476c-80ab-e991460a1963"
      },
      "source": [
        "print(\"Enter a word\")\r\n",
        "word = list(input())\r\n",
        "print(''.join(word[::-1]))"
      ],
      "execution_count": null,
      "outputs": [
        {
          "output_type": "stream",
          "text": [
            "Enter a word\n",
            "ineuron\n",
            "norueni\n"
          ],
          "name": "stdout"
        }
      ]
    }
  ]
}
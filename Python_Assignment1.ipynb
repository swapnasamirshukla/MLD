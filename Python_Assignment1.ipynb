{
  "nbformat": 4,
  "nbformat_minor": 0,
  "metadata": {
    "colab": {
      "name": "Python_Assignment1.ipynb",
      "provenance": [],
      "collapsed_sections": [],
      "authorship_tag": "ABX9TyMWe/ZBc6gZ15bV6LurRbEr",
      "include_colab_link": true
    },
    "kernelspec": {
      "name": "python3",
      "display_name": "Python 3"
    }
  },
  "cells": [
    {
      "cell_type": "markdown",
      "metadata": {
        "id": "view-in-github",
        "colab_type": "text"
      },
      "source": [
        "<a href=\"https://colab.research.google.com/github/swapnasamirshukla/MLD/blob/main/Python_Assignment1.ipynb\" target=\"_parent\"><img src=\"https://colab.research.google.com/assets/colab-badge.svg\" alt=\"Open In Colab\"/></a>"
      ]
    },
    {
      "cell_type": "markdown",
      "metadata": {
        "id": "H4N4CJHGatOT"
      },
      "source": [
        "Q1.Write a program which will find all such numbers which are divisible by 7 but are not a multiple of 5, between 2000 and 3200 (both included). The numbers obtained should be printed\r\n",
        "in a comma-separated sequence on a single line."
      ]
    },
    {
      "cell_type": "code",
      "metadata": {
        "colab": {
          "base_uri": "https://localhost:8080/"
        },
        "id": "rauectbSdHSo",
        "outputId": "4441bc24-8ea5-4372-9daa-e836deab6260"
      },
      "source": [
        "print(','.join([str(i) for i in range(2000,3201) if(i%7==0 and i%5!=0)]))"
      ],
      "execution_count": null,
      "outputs": [
        {
          "output_type": "stream",
          "text": [
            "2002,2009,2016,2023,2037,2044,2051,2058,2072,2079,2086,2093,2107,2114,2121,2128,2142,2149,2156,2163,2177,2184,2191,2198,2212,2219,2226,2233,2247,2254,2261,2268,2282,2289,2296,2303,2317,2324,2331,2338,2352,2359,2366,2373,2387,2394,2401,2408,2422,2429,2436,2443,2457,2464,2471,2478,2492,2499,2506,2513,2527,2534,2541,2548,2562,2569,2576,2583,2597,2604,2611,2618,2632,2639,2646,2653,2667,2674,2681,2688,2702,2709,2716,2723,2737,2744,2751,2758,2772,2779,2786,2793,2807,2814,2821,2828,2842,2849,2856,2863,2877,2884,2891,2898,2912,2919,2926,2933,2947,2954,2961,2968,2982,2989,2996,3003,3017,3024,3031,3038,3052,3059,3066,3073,3087,3094,3101,3108,3122,3129,3136,3143,3157,3164,3171,3178,3192,3199\n"
          ],
          "name": "stdout"
        }
      ]
    },
    {
      "cell_type": "markdown",
      "metadata": {
        "id": "A1O1GyXthR6S"
      },
      "source": [
        "Q2: Write a Python program to accept the user's first and last name and then getting them printed in the the reverse order with a space between first name and last name."
      ]
    },
    {
      "cell_type": "code",
      "metadata": {
        "colab": {
          "base_uri": "https://localhost:8080/"
        },
        "id": "_mABTeFMd1U3",
        "outputId": "3f330bad-d93d-48fc-ff1c-0014313c6dd3"
      },
      "source": [
        "print(\"Enter your name\")\r\n",
        "name = input() \r\n",
        "splitName = name.split(\" \")\r\n",
        "if len(splitName) > 2:  # Name contains a middle name\r\n",
        "  print(''.join(splitName[2:])+' '+' '.join(splitName[:2]))\r\n",
        "else:\r\n",
        "  print(' '.join(splitName[::-1]))"
      ],
      "execution_count": null,
      "outputs": [
        {
          "output_type": "stream",
          "text": [
            "Enter your name\n",
            "Amar Akbar Anthony\n",
            "Anthony Amar Akbar\n"
          ],
          "name": "stdout"
        }
      ]
    },
    {
      "cell_type": "code",
      "metadata": {
        "colab": {
          "base_uri": "https://localhost:8080/"
        },
        "id": "TxtAPjcGgnrM",
        "outputId": "ee7dac94-32a5-4227-f180-61017b1f3551"
      },
      "source": [
        "# Not Sure, if the question meant reversing just the names <<lastname>> <<firstname>> or the alphabets of both the names \r\n",
        "print(\"Enter your name\")\r\n",
        "name = input()\r\n",
        "print(' '.join(name[::-1] for name in name.split(\" \")))"
      ],
      "execution_count": null,
      "outputs": [
        {
          "output_type": "stream",
          "text": [
            "Enter your name\n",
            "Amar Akbar Anthony\n",
            "ramA rabkA ynohtnA\n"
          ],
          "name": "stdout"
        }
      ]
    },
    {
      "cell_type": "code",
      "metadata": {
        "colab": {
          "base_uri": "https://localhost:8080/"
        },
        "id": "nM-PbzJ-gtB9",
        "outputId": "2a57f784-ab2a-4abf-d861-1b61e3c2a3c7"
      },
      "source": [
        "print(\"Enter your  First Name\")\r\n",
        "firstName = input()\r\n",
        "print(\"Enter your Last Name\")\r\n",
        "surName = input()\r\n",
        "print(' '.join(name[::-1] for name in firstName.split(\" \"))+\" \"+surName[::-1])"
      ],
      "execution_count": null,
      "outputs": [
        {
          "output_type": "stream",
          "text": [
            "Enter your  First Name\n",
            "Amar Akbar\n",
            "Enter your Last Name\n",
            "Anthony\n",
            "ramA rabkA ynohtnA\n"
          ],
          "name": "stdout"
        }
      ]
    },
    {
      "cell_type": "markdown",
      "metadata": {
        "id": "1eGnFudDlY1r"
      },
      "source": [
        "Q3: Write a Python program to find the volume of a sphere with diameter 12 cm.Formula: V=4/3 * π * r^3"
      ]
    },
    {
      "cell_type": "code",
      "metadata": {
        "colab": {
          "base_uri": "https://localhost:8080/"
        },
        "id": "W-jHjWtKjEiQ",
        "outputId": "de09b509-5e70-4279-f98a-f55415892808"
      },
      "source": [
        "from math import pi\r\n",
        "print(\"Volume of the sphere with radius of 12 cm is {} cu. cm\".format(4/3*pi*((12/2)**3)))"
      ],
      "execution_count": null,
      "outputs": [
        {
          "output_type": "stream",
          "text": [
            "Volume of the sphere with radius of 12 cm is 904.7786842338603 cu. cm\n"
          ],
          "name": "stdout"
        }
      ]
    },
    {
      "cell_type": "code",
      "metadata": {
        "id": "9U2rIJginWGj"
      },
      "source": [
        ""
      ],
      "execution_count": null,
      "outputs": []
    }
  ]
}
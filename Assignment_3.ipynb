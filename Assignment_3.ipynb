{
  "nbformat": 4,
  "nbformat_minor": 0,
  "metadata": {
    "colab": {
      "name": "Assignment_3.ipynb",
      "provenance": [],
      "collapsed_sections": [],
      "authorship_tag": "ABX9TyN9sAu/gVi7VN7y6pGqrZZ4",
      "include_colab_link": true
    },
    "kernelspec": {
      "name": "python3",
      "display_name": "Python 3"
    }
  },
  "cells": [
    {
      "cell_type": "markdown",
      "metadata": {
        "id": "view-in-github",
        "colab_type": "text"
      },
      "source": [
        "<a href=\"https://colab.research.google.com/github/swapnasamirshukla/MLD/blob/main/Assignment_3.ipynb\" target=\"_parent\"><img src=\"https://colab.research.google.com/assets/colab-badge.svg\" alt=\"Open In Colab\"/></a>"
      ]
    },
    {
      "cell_type": "markdown",
      "metadata": {
        "id": "jZA4jgbeHhdc"
      },
      "source": [
        "Q1:Write a Python Program to implement your own myreduce() function which works exactly\r\n",
        "like Python's built-in function reduce()"
      ]
    },
    {
      "cell_type": "code",
      "metadata": {
        "id": "pzSN2pubE5lS"
      },
      "source": [
        "def myreduce(l,func):\r\n",
        "  initial=l[0]\r\n",
        "  for i in l[1:]:\r\n",
        "    try:\r\n",
        "     initial=func(initial,i)\r\n",
        "    except Exception as e:\r\n",
        "      initial=e\r\n",
        "  return initial"
      ],
      "execution_count": null,
      "outputs": []
    },
    {
      "cell_type": "code",
      "metadata": {
        "colab": {
          "base_uri": "https://localhost:8080/"
        },
        "id": "vrUIVnJyUxDY",
        "outputId": "62e5b7b8-9ddb-4aa2-c206-d0f0716ec1d7"
      },
      "source": [
        "l=[1,2,3,4,5]\r\n",
        "myreduce(l,max)"
      ],
      "execution_count": null,
      "outputs": [
        {
          "output_type": "execute_result",
          "data": {
            "text/plain": [
              "5"
            ]
          },
          "metadata": {
            "tags": []
          },
          "execution_count": 52
        }
      ]
    },
    {
      "cell_type": "code",
      "metadata": {
        "colab": {
          "base_uri": "https://localhost:8080/"
        },
        "id": "tTELTtvsjW83",
        "outputId": "0f9ca8f8-0f5f-4fc9-91a6-753a328b8ef2"
      },
      "source": [
        "def add(x,y):\r\n",
        "  return x+y\r\n",
        "myreduce(l,add)"
      ],
      "execution_count": null,
      "outputs": [
        {
          "output_type": "execute_result",
          "data": {
            "text/plain": [
              "15"
            ]
          },
          "metadata": {
            "tags": []
          },
          "execution_count": 44
        }
      ]
    },
    {
      "cell_type": "code",
      "metadata": {
        "colab": {
          "base_uri": "https://localhost:8080/"
        },
        "id": "iusTuTxJoDaf",
        "outputId": "53060d8a-65dc-4aa7-eddd-fc4790df9a6b"
      },
      "source": [
        "def sub(x,y):\r\n",
        "  return x-y\r\n",
        "myreduce(l,sub)"
      ],
      "execution_count": null,
      "outputs": [
        {
          "output_type": "execute_result",
          "data": {
            "text/plain": [
              "-13"
            ]
          },
          "metadata": {
            "tags": []
          },
          "execution_count": 45
        }
      ]
    },
    {
      "cell_type": "code",
      "metadata": {
        "colab": {
          "base_uri": "https://localhost:8080/"
        },
        "id": "1FAWEsm61-n-",
        "outputId": "bdfdc042-4807-42b4-a0f3-6345d9d8d777"
      },
      "source": [
        "def mul(x,y):\r\n",
        "  return x*y\r\n",
        "myreduce(l,mul)"
      ],
      "execution_count": null,
      "outputs": [
        {
          "output_type": "execute_result",
          "data": {
            "text/plain": [
              "120"
            ]
          },
          "metadata": {
            "tags": []
          },
          "execution_count": 47
        }
      ]
    },
    {
      "cell_type": "code",
      "metadata": {
        "colab": {
          "base_uri": "https://localhost:8080/",
          "height": 36
        },
        "id": "2N81v1NxU0Rs",
        "outputId": "029d2329-dea1-419a-fb1f-a800ee4dad7b"
      },
      "source": [
        "l=['My','name','is','Khan', 'and','I','am','not','a','terrorist']\r\n",
        "myreduce(l,add)"
      ],
      "execution_count": null,
      "outputs": [
        {
          "output_type": "execute_result",
          "data": {
            "application/vnd.google.colaboratory.intrinsic+json": {
              "type": "string"
            },
            "text/plain": [
              "'MynameisKhanandIamnotaterrorist'"
            ]
          },
          "metadata": {
            "tags": []
          },
          "execution_count": 48
        }
      ]
    },
    {
      "cell_type": "code",
      "metadata": {
        "colab": {
          "base_uri": "https://localhost:8080/",
          "height": 36
        },
        "id": "lyPE-jGe1kzh",
        "outputId": "77640518-3f0c-4ed8-9cc1-0d27339e1b4c"
      },
      "source": [
        "myreduce(l,max)"
      ],
      "execution_count": null,
      "outputs": [
        {
          "output_type": "execute_result",
          "data": {
            "application/vnd.google.colaboratory.intrinsic+json": {
              "type": "string"
            },
            "text/plain": [
              "'terrorist'"
            ]
          },
          "metadata": {
            "tags": []
          },
          "execution_count": 49
        }
      ]
    },
    {
      "cell_type": "code",
      "metadata": {
        "colab": {
          "base_uri": "https://localhost:8080/"
        },
        "id": "SKzO_I1713qJ",
        "outputId": "86ef3d75-7c64-4582-c743-74799fdebc3b"
      },
      "source": [
        "myreduce(l,sub)"
      ],
      "execution_count": null,
      "outputs": [
        {
          "output_type": "execute_result",
          "data": {
            "text/plain": [
              "TypeError(\"unsupported operand type(s) for -: 'TypeError' and 'str'\")"
            ]
          },
          "metadata": {
            "tags": []
          },
          "execution_count": 50
        }
      ]
    },
    {
      "cell_type": "code",
      "metadata": {
        "colab": {
          "base_uri": "https://localhost:8080/"
        },
        "id": "X1c-Jvdd2f0V",
        "outputId": "f9cf1c52-a587-4504-ecd3-92bf452d7205"
      },
      "source": [
        "myreduce(l,mul)"
      ],
      "execution_count": null,
      "outputs": [
        {
          "output_type": "execute_result",
          "data": {
            "text/plain": [
              "TypeError(\"can't multiply sequence by non-int of type 'TypeError'\")"
            ]
          },
          "metadata": {
            "tags": []
          },
          "execution_count": 51
        }
      ]
    },
    {
      "cell_type": "markdown",
      "metadata": {
        "id": "ZpeevK0R6kee"
      },
      "source": [
        "Q2.Write a Python program to implement your own myfilter() function which works exactly\r\n",
        "like Python's built-in function filter()"
      ]
    },
    {
      "cell_type": "code",
      "metadata": {
        "id": "H-fi53sV2i_R"
      },
      "source": [
        "def myfilter(l,func):\r\n",
        "  for i in l:\r\n",
        "    try:\r\n",
        "     res=func(i)\r\n",
        "    except Exception as e:\r\n",
        "      res=e\r\n",
        "      return res\r\n",
        "    if res == True:\r\n",
        "      yield i"
      ],
      "execution_count": null,
      "outputs": []
    },
    {
      "cell_type": "code",
      "metadata": {
        "colab": {
          "base_uri": "https://localhost:8080/"
        },
        "id": "jJFl9wk86nxe",
        "outputId": "0d35a195-a3ed-4d84-9f70-f368ed14b14e"
      },
      "source": [
        "l=[1,2,3,4,5]\r\n",
        "def greaterthan2(x):\r\n",
        "  if (x>2):\r\n",
        "    return True\r\n",
        "list(myfilter(l,greaterthan2))"
      ],
      "execution_count": null,
      "outputs": [
        {
          "output_type": "execute_result",
          "data": {
            "text/plain": [
              "[3, 4, 5]"
            ]
          },
          "metadata": {
            "tags": []
          },
          "execution_count": 69
        }
      ]
    },
    {
      "cell_type": "code",
      "metadata": {
        "colab": {
          "base_uri": "https://localhost:8080/"
        },
        "id": "PmKazw8g8QIZ",
        "outputId": "b3e09b27-f96f-4038-c7fb-0a62f605fccd"
      },
      "source": [
        "def even(x):\r\n",
        "  if x%2==0:\r\n",
        "    return True\r\n",
        "list(myfilter(l,even))"
      ],
      "execution_count": null,
      "outputs": [
        {
          "output_type": "execute_result",
          "data": {
            "text/plain": [
              "[2, 4]"
            ]
          },
          "metadata": {
            "tags": []
          },
          "execution_count": 68
        }
      ]
    },
    {
      "cell_type": "code",
      "metadata": {
        "colab": {
          "base_uri": "https://localhost:8080/"
        },
        "id": "3s0mmMpE908c",
        "outputId": "6ed542cf-43de-4e0a-b1b5-1d52795eb8ae"
      },
      "source": [
        "import math\r\n",
        "def isprime(x):\r\n",
        "  if (x==1):\r\n",
        "    return\r\n",
        "  for i in range(2,int(math.sqrt(x)+1)):\r\n",
        "    if (x != 2 and x%i==0):\r\n",
        "      break\r\n",
        "  else:\r\n",
        "    return True\r\n",
        "list(myfilter(l,isprime))"
      ],
      "execution_count": null,
      "outputs": [
        {
          "output_type": "execute_result",
          "data": {
            "text/plain": [
              "[2, 3, 5]"
            ]
          },
          "metadata": {
            "tags": []
          },
          "execution_count": 86
        }
      ]
    },
    {
      "cell_type": "markdown",
      "metadata": {
        "id": "49O7BZ1aELGB"
      },
      "source": [
        "Q3 : Print using list comprehension:\r\n",
        "\r\n",
        "['x', 'xx', 'xxx', 'xxxx', 'y', 'yy', 'yyy', 'yyyy', 'z', 'zz', 'zzz', 'zzzz']\r\n",
        "\r\n",
        "['x', 'y', 'z', 'xx', 'yy', 'zz', 'xxx', 'yyy', 'zzz', 'xxxx', 'yyyy', 'zzzz']\r\n",
        "\r\n",
        "[[2], [3], [4], [3], [4], [5], [4], [5], [6]] [[2, 3, 4, 5], [3, 4, 5, 6],[4,5,6, 7], [5, 6, 7, 8]]\r\n",
        "\r\n",
        "[(1, 1), (2, 1), (3, 1), (1, 2), (2, 2), (3, 2), (1, 3), (2, 3), (3, 3)]"
      ]
    },
    {
      "cell_type": "code",
      "metadata": {
        "colab": {
          "base_uri": "https://localhost:8080/"
        },
        "id": "N6gdMooQE2Th",
        "outputId": "d365f8f5-1c22-4075-a25d-c63498d24b4d"
      },
      "source": [
        "[i*j for i in ['x','y','z'] for j in range(1,5)]"
      ],
      "execution_count": null,
      "outputs": [
        {
          "output_type": "execute_result",
          "data": {
            "text/plain": [
              "['x', 'xx', 'xxx', 'xxxx', 'y', 'yy', 'yyy', 'yyyy', 'z', 'zz', 'zzz', 'zzzz']"
            ]
          },
          "metadata": {
            "tags": []
          },
          "execution_count": 88
        }
      ]
    },
    {
      "cell_type": "code",
      "metadata": {
        "colab": {
          "base_uri": "https://localhost:8080/"
        },
        "id": "lCa4pe_RFR_4",
        "outputId": "89d86542-c532-4cac-9817-fffa6be280c6"
      },
      "source": [
        "[j*i for i in range(1,5) for j in ['x','y','z']]"
      ],
      "execution_count": null,
      "outputs": [
        {
          "output_type": "execute_result",
          "data": {
            "text/plain": [
              "['x', 'y', 'z', 'xx', 'yy', 'zz', 'xxx', 'yyy', 'zzz', 'xxxx', 'yyyy', 'zzzz']"
            ]
          },
          "metadata": {
            "tags": []
          },
          "execution_count": 90
        }
      ]
    },
    {
      "cell_type": "code",
      "metadata": {
        "colab": {
          "base_uri": "https://localhost:8080/"
        },
        "id": "zCGf01qkGFbx",
        "outputId": "301b8fdf-3db4-4414-f2d7-6acecf8258ce"
      },
      "source": [
        "print([[j] for i in range(2,5) for j in range(i,i+3)], [list(map(lambda x:x+i, [2,3,4,5])) for i in range(4)])"
      ],
      "execution_count": null,
      "outputs": [
        {
          "output_type": "stream",
          "text": [
            "[[2], [3], [4], [3], [4], [5], [4], [5], [6]] [[2, 3, 4, 5], [3, 4, 5, 6], [4, 5, 6, 7], [5, 6, 7, 8]]\n"
          ],
          "name": "stdout"
        }
      ]
    },
    {
      "cell_type": "code",
      "metadata": {
        "colab": {
          "base_uri": "https://localhost:8080/"
        },
        "id": "W_laOo4PFozS",
        "outputId": "9470a9c4-32cf-4be5-ac03-890f7bae5ffd"
      },
      "source": [
        "[(j,i) for i in range(1,4) for j in range(1,4)]"
      ],
      "execution_count": null,
      "outputs": [
        {
          "output_type": "execute_result",
          "data": {
            "text/plain": [
              "[(1, 1), (2, 1), (3, 1), (1, 2), (2, 2), (3, 2), (1, 3), (2, 3), (3, 3)]"
            ]
          },
          "metadata": {
            "tags": []
          },
          "execution_count": 91
        }
      ]
    },
    {
      "cell_type": "code",
      "metadata": {
        "id": "rjjcICcRFhHm"
      },
      "source": [
        ""
      ],
      "execution_count": null,
      "outputs": []
    }
  ]
}
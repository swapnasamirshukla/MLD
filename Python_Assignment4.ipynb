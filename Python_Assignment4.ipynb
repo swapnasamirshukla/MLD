{
  "nbformat": 4,
  "nbformat_minor": 0,
  "metadata": {
    "colab": {
      "name": "Python_Assignment4.ipynb",
      "provenance": [],
      "collapsed_sections": [],
      "authorship_tag": "ABX9TyMa1WOFsBsw1CiFQzeAjoCA",
      "include_colab_link": true
    },
    "kernelspec": {
      "name": "python3",
      "display_name": "Python 3"
    }
  },
  "cells": [
    {
      "cell_type": "markdown",
      "metadata": {
        "id": "view-in-github",
        "colab_type": "text"
      },
      "source": [
        "<a href=\"https://colab.research.google.com/github/swapnasamirshukla/MLD/blob/Python/Python_Assignment4.ipynb\" target=\"_parent\"><img src=\"https://colab.research.google.com/assets/colab-badge.svg\" alt=\"Open In Colab\"/></a>"
      ]
    },
    {
      "cell_type": "markdown",
      "metadata": {
        "id": "x5-Ndc2kic8Z"
      },
      "source": [
        "1.1 Write a Python Program(with class concepts) to find the area of the triangle using the below\r\n",
        "formula.\r\n",
        "area = (s*(s-a)*(s-b)*(s-c)) ** 0.5\r\n",
        "Function to take the length of the sides of triangle from user should be defined in the parent\r\n",
        "class and function to calculate the area should be defined in subclass."
      ]
    },
    {
      "cell_type": "code",
      "metadata": {
        "id": "2VWJkfEFia2e"
      },
      "source": [
        "class Triangle:\r\n",
        "  def __init__(self,a,b,c):\r\n",
        "    self.a=a\r\n",
        "    self.b=b\r\n",
        "    self.c=c"
      ],
      "execution_count": null,
      "outputs": []
    },
    {
      "cell_type": "code",
      "metadata": {
        "id": "rO7ruVKHi9vN"
      },
      "source": [
        "from functools import reduce\r\n",
        "class Area(Triangle):\r\n",
        "  def __init__(self,*args):\r\n",
        "    #self.t_obj=t_obj\r\n",
        "    super().__init__(*args)\r\n",
        "  def area(self):\r\n",
        "    sides_list=sorted([self.a,self.b,self.c])\r\n",
        "    if sides_list[0]+sides_list[1]<sides_list[2]:\r\n",
        "      return 'Please Enter again.Invalid Triangle'\r\n",
        "    else:\r\n",
        "      s=sum(sides_list)/2\r\n",
        "      tr_area=0.5*s*reduce(lambda x,y:x*y,list(map(lambda x:(s-x),sides_list)))\r\n",
        "    return tr_area"
      ],
      "execution_count": null,
      "outputs": []
    },
    {
      "cell_type": "code",
      "metadata": {
        "id": "gfHK8J28-dfy"
      },
      "source": [
        "a=Area(2,5,4)"
      ],
      "execution_count": null,
      "outputs": []
    },
    {
      "cell_type": "code",
      "metadata": {
        "colab": {
          "base_uri": "https://localhost:8080/"
        },
        "id": "jYedWlqe-uTl",
        "outputId": "e5cf78dc-2a75-463f-de87-223f580d4688"
      },
      "source": [
        "a.area()"
      ],
      "execution_count": null,
      "outputs": [
        {
          "output_type": "execute_result",
          "data": {
            "text/plain": [
              "7.21875"
            ]
          },
          "metadata": {
            "tags": []
          },
          "execution_count": 122
        }
      ]
    },
    {
      "cell_type": "code",
      "metadata": {
        "id": "xydQ0KiylHsv"
      },
      "source": [
        "a=Area(2,8,4)"
      ],
      "execution_count": null,
      "outputs": []
    },
    {
      "cell_type": "code",
      "metadata": {
        "colab": {
          "base_uri": "https://localhost:8080/",
          "height": 36
        },
        "id": "hiPS3Do3lLvG",
        "outputId": "feed4078-6cb8-4b5d-a548-a995bbfc0d53"
      },
      "source": [
        "a.area()"
      ],
      "execution_count": null,
      "outputs": [
        {
          "output_type": "execute_result",
          "data": {
            "application/vnd.google.colaboratory.intrinsic+json": {
              "type": "string"
            },
            "text/plain": [
              "'Please Enter again.Invalid Triangle'"
            ]
          },
          "metadata": {
            "tags": []
          },
          "execution_count": 124
        }
      ]
    },
    {
      "cell_type": "markdown",
      "metadata": {
        "id": "H0y3NN33yBJL"
      },
      "source": [
        "1.2 Write a function filter_long_words() that takes a list of words and an integer n and returns\r\n",
        "the list of words that are longer than n."
      ]
    },
    {
      "cell_type": "code",
      "metadata": {
        "id": "JlehBCqgrHl1"
      },
      "source": [
        "def get_words():\r\n",
        "  print('Enter a list of words. Press Ctrl+D to exit')\r\n",
        "  long_words = []\r\n",
        "  while True:\r\n",
        "    try:\r\n",
        "      words = input()\r\n",
        "      if words:\r\n",
        "        long_words.append(words)\r\n",
        "      else:\r\n",
        "        break\r\n",
        "    except:\r\n",
        "     ##### No more input...User entered 'Ctrl+D' to exit\r\n",
        "      break\r\n",
        "  return long_words"
      ],
      "execution_count": null,
      "outputs": []
    },
    {
      "cell_type": "code",
      "metadata": {
        "colab": {
          "base_uri": "https://localhost:8080/"
        },
        "id": "ixORNVP6r02A",
        "outputId": "f9c3e1a0-94a6-4a44-97f8-aa420b9d6830"
      },
      "source": [
        "print('Enter the length of the highest possible world:')\r\n",
        "n=int(input())"
      ],
      "execution_count": null,
      "outputs": [
        {
          "output_type": "stream",
          "text": [
            "Enter the length of the highest possible world:\n",
            "12\n"
          ],
          "name": "stdout"
        }
      ]
    },
    {
      "cell_type": "code",
      "metadata": {
        "id": "-_i__7MVtAPl"
      },
      "source": [
        "def filter_long_words(get_words,n):\r\n",
        "  long_words=get_words()\r\n",
        "  return list(filter(lambda x:True if len(x)>n else False ,long_words))"
      ],
      "execution_count": null,
      "outputs": []
    },
    {
      "cell_type": "code",
      "metadata": {
        "colab": {
          "base_uri": "https://localhost:8080/"
        },
        "id": "8Vn39lVYv3Zu",
        "outputId": "6c2051a2-6ce6-4f67-df19-0e36efb63b3d"
      },
      "source": [
        "filter_long_words(get_words,n)"
      ],
      "execution_count": null,
      "outputs": [
        {
          "output_type": "stream",
          "text": [
            "Enter a list of words. Press Ctrl+D to exit\n",
            "AFKJHAKHGKAGLKLKZKLKLKJKJ;L\n",
            "HAJHFJAHJHJhJGkKKk;L;L;L\n",
            "AJFJalkankan\n",
            "anhljfaljkfkaknAKGNaknmka\n",
            "anljAGAKNGKnkgANKmlkmalgamga'l\n",
            "ajajhnak;\n",
            "anhflkankKAM;\n",
            "JaljkNHAKlk\n",
            "jafljaka;kjjslkgnak\n",
            "fakjbajnkan;lAMLAM;LAM';A\n",
            "AJFlknKFNkankANaknkAN\n",
            "GZAJNBKJSJAJSALKAL\n",
            "AJNGALKGALKKANKALKFjall\n",
            "\u0004\n"
          ],
          "name": "stdout"
        },
        {
          "output_type": "execute_result",
          "data": {
            "text/plain": [
              "['AFKJHAKHGKAGLKLKZKLKLKJKJ;L',\n",
              " 'HAJHFJAHJHJhJGkKKk;L;L;L',\n",
              " 'anhljfaljkfkaknAKGNaknmka',\n",
              " \"anljAGAKNGKnkgANKmlkmalgamga'l\",\n",
              " 'anhflkankKAM;',\n",
              " 'jafljaka;kjjslkgnak',\n",
              " \"fakjbajnkan;lAMLAM;LAM';A\",\n",
              " 'AJFlknKFNkankANaknkAN',\n",
              " 'GZAJNBKJSJAJSALKAL',\n",
              " 'AJNGALKGALKKANKALKFjall']"
            ]
          },
          "metadata": {
            "tags": []
          },
          "execution_count": 64
        }
      ]
    },
    {
      "cell_type": "markdown",
      "metadata": {
        "id": "gI3BpU2Oz3bs"
      },
      "source": [
        "2.1 Write a Python program using function concept that maps list of words into a list of integers\r\n",
        "representing the lengths of the corresponding words.\r\n",
        "Hint: If a list [ ab,cde,erty] is passed on to the python function output should come as [2,3,4]\r\n",
        "Here 2,3 and 4 are the lengths of the words in the list."
      ]
    },
    {
      "cell_type": "code",
      "metadata": {
        "id": "vhONw3xcxv6W"
      },
      "source": [
        "def map_length(get_words):\r\n",
        "  word_list=get_words()\r\n",
        "  return list(map(lambda x:len(x),word_list))"
      ],
      "execution_count": null,
      "outputs": []
    },
    {
      "cell_type": "code",
      "metadata": {
        "colab": {
          "base_uri": "https://localhost:8080/"
        },
        "id": "-ZTq7Iot0dkM",
        "outputId": "33de2bbb-c14c-47f8-f170-7fd2ae3b1fd1"
      },
      "source": [
        "map_length(get_words)"
      ],
      "execution_count": null,
      "outputs": [
        {
          "output_type": "stream",
          "text": [
            "Enter a list of words. Press Ctrl+D to exit\n",
            "zkjvxvzbmbzn\n",
            "zdkjzjnmz\n",
            "xzjnmxz\n",
            "salkgslkh;s;sh\n",
            "skjhlksglksjkgs;klmalkskdska;kj;kaj;aj;\n",
            "akjjskjs;ljs;ljh;laj;laj;l\n",
            "sj;lksjlsaksja'ksks;l;ls;s\n",
            "ks;kjsksj;ljs;lsj'ka';kak\n",
            "snksj;lskh\n",
            "s\n",
            "ss\n",
            "sss\n",
            "slks;ks;ljs;ljs\n",
            "sssss\n",
            "s;ls;ls;\n",
            "sjklsjlsa\n",
            "slk;l;ls';s';ksa\n",
            "lks;las;ls;l\n",
            "gakj;ka\n",
            "ka;ka;kalk;la\n",
            "a;lka;ala;l\n",
            "a;a\n",
            "\u0004\n"
          ],
          "name": "stdout"
        },
        {
          "output_type": "execute_result",
          "data": {
            "text/plain": [
              "[12, 9, 7, 14, 39, 26, 26, 25, 10, 1, 2, 3, 15, 5, 8, 9, 16, 12, 7, 13, 11, 3]"
            ]
          },
          "metadata": {
            "tags": []
          },
          "execution_count": 71
        }
      ]
    },
    {
      "cell_type": "markdown",
      "metadata": {
        "id": "elpHPBlI1v3S"
      },
      "source": [
        "2.2 Write a Python function which takes a character (i.e. a string of length 1) and returns True if\r\n",
        "it is a vowel, False otherwise."
      ]
    },
    {
      "cell_type": "code",
      "metadata": {
        "id": "KfUBgf791J0u"
      },
      "source": [
        "def test_vowel(letter):\r\n",
        "  if letter.lower() in ['a','e','i','o','u'] :\r\n",
        "    return True\r\n",
        "  return False"
      ],
      "execution_count": null,
      "outputs": []
    },
    {
      "cell_type": "code",
      "metadata": {
        "colab": {
          "base_uri": "https://localhost:8080/"
        },
        "id": "EMA6fNBi1yfB",
        "outputId": "71a798f8-ecd1-40d7-b0cf-b08cfc179e08"
      },
      "source": [
        "test_vowel('b')"
      ],
      "execution_count": null,
      "outputs": [
        {
          "output_type": "execute_result",
          "data": {
            "text/plain": [
              "False"
            ]
          },
          "metadata": {
            "tags": []
          },
          "execution_count": 76
        }
      ]
    },
    {
      "cell_type": "code",
      "metadata": {
        "colab": {
          "base_uri": "https://localhost:8080/"
        },
        "id": "NjHGDikn2nDS",
        "outputId": "3ef62642-9bc4-4882-e1cf-8dbef4808b89"
      },
      "source": [
        "test_vowel('a')"
      ],
      "execution_count": null,
      "outputs": [
        {
          "output_type": "execute_result",
          "data": {
            "text/plain": [
              "True"
            ]
          },
          "metadata": {
            "tags": []
          },
          "execution_count": 77
        }
      ]
    },
    {
      "cell_type": "code",
      "metadata": {
        "colab": {
          "base_uri": "https://localhost:8080/"
        },
        "id": "31bZm8gl2464",
        "outputId": "efbcb28a-5f7c-4f3c-b3fd-409649c84a36"
      },
      "source": [
        "test_vowel('I')"
      ],
      "execution_count": null,
      "outputs": [
        {
          "output_type": "execute_result",
          "data": {
            "text/plain": [
              "True"
            ]
          },
          "metadata": {
            "tags": []
          },
          "execution_count": 78
        }
      ]
    },
    {
      "cell_type": "code",
      "metadata": {
        "id": "W3QKDi0Y27H1"
      },
      "source": [
        ""
      ],
      "execution_count": null,
      "outputs": []
    }
  ]
}
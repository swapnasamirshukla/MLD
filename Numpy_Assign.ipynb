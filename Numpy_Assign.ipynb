{
  "nbformat": 4,
  "nbformat_minor": 0,
  "metadata": {
    "colab": {
      "name": "Numpy_Assign.ipynb",
      "provenance": [],
      "collapsed_sections": [],
      "authorship_tag": "ABX9TyNXnoIY1IiRfOjWwdHnAYl0",
      "include_colab_link": true
    },
    "kernelspec": {
      "name": "python3",
      "display_name": "Python 3"
    }
  },
  "cells": [
    {
      "cell_type": "markdown",
      "metadata": {
        "id": "view-in-github",
        "colab_type": "text"
      },
      "source": [
        "<a href=\"https://colab.research.google.com/github/swapnasamirshukla/MLD/blob/main/Numpy_Assign.ipynb\" target=\"_parent\"><img src=\"https://colab.research.google.com/assets/colab-badge.svg\" alt=\"Open In Colab\"/></a>"
      ]
    },
    {
      "cell_type": "markdown",
      "metadata": {
        "id": "1JlVleolPYZR"
      },
      "source": [
        "Q1: Write a function so that the columns of the output matrix are powers of the input\r\n",
        "vector.\r\n",
        "\r\n",
        "The order of the powers is determined by the increasing boolean argument. Specifically, when\r\n",
        "increasing is False, the i-th output column is the input vector raised element-wise to the power\r\n",
        "of N - i - 1.\r\n",
        "\r\n",
        "HINT: Such a matrix with a geometric progression in each row is named for Alexandre-\r\n",
        "Theophile Vandermonde."
      ]
    },
    {
      "cell_type": "code",
      "metadata": {
        "id": "mutJTgobPhM8"
      },
      "source": [
        "import numpy as np\r\n",
        "def alex_theo_vander(arr):\r\n",
        "  # N = length of the vector\r\n",
        "  return np.column_stack([arr**(len(arr)-i-1) for i in range(len(arr))])"
      ],
      "execution_count": null,
      "outputs": []
    },
    {
      "cell_type": "code",
      "metadata": {
        "colab": {
          "base_uri": "https://localhost:8080/"
        },
        "id": "wrgQz_GASb7V",
        "outputId": "fd1d694a-9198-4162-aa09-cd50963b4d26"
      },
      "source": [
        "alex_theo_vander(np.array([3, 5, 7, 2]))"
      ],
      "execution_count": null,
      "outputs": [
        {
          "output_type": "execute_result",
          "data": {
            "text/plain": [
              "array([[ 27,   9,   3,   1],\n",
              "       [125,  25,   5,   1],\n",
              "       [343,  49,   7,   1],\n",
              "       [  8,   4,   2,   1]])"
            ]
          },
          "metadata": {
            "tags": []
          },
          "execution_count": 31
        }
      ]
    },
    {
      "cell_type": "markdown",
      "metadata": {
        "id": "8C2ABDtJJZrq"
      },
      "source": [
        "Q2: Given a sequence of n values x1, x2, ..., xn and a window size k>0, the k-th moving average of the given sequence is defined as follows:\r\n",
        "\r\n",
        "The moving average sequence has n-k+1 elements as shown below.\r\n",
        "\r\n",
        "The moving averages with k=4 of a ten-value sequence (n=10) is shown below\r\n",
        "i 1 2 3 4 5 6 7 8 9 10\r\n",
        "\r\n",
        "===== == == == == == == == == == ==\r\n",
        "\r\n",
        "Input 10 20 30 40 50 60 70 80 90 100\r\n",
        "\r\n",
        "y1 25 = (10+20+30+40)/4\r\n",
        "\r\n",
        "y2 35 = (20+30+40+50)/4\r\n",
        "\r\n",
        "y3 45 = (30+40+50+60)/4\r\n",
        "\r\n",
        "y4 55 = (40+50+60+70)/4\r\n",
        "\r\n",
        "y5 65 = (50+60+70+80)/4\r\n",
        "\r\n",
        "y6 75 = (60+70+80+90)/4\r\n",
        "\r\n",
        "y7 85 = (70+80+90+100)/4\r\n",
        "\r\n",
        "Thus, the moving average sequence has n-k+1=10-4+1=7 values.\r\n",
        "\r\n",
        "Question: Write a function to find moving average in an array over a window:\r\n",
        "\r\n",
        "Test it over [3, 5, 7, 2, 8, 10, 11, 65, 72, 81, 99, 100, 150] and window of 3."
      ]
    },
    {
      "cell_type": "code",
      "metadata": {
        "id": "JEs0t0ZkJVG9"
      },
      "source": [
        "import numpy as np\r\n",
        "def moving_average(arr,k):\r\n",
        "  mov_avg=[np.mean(arr[i:i+k]) for i in range(len(arr)) if (i<=len(arr)-k) ]\r\n",
        "  for i in range(len(mov_avg)):\r\n",
        "    print(\"Moving average {} is {}\".format(i+1,mov_avg[i]))"
      ],
      "execution_count": null,
      "outputs": []
    },
    {
      "cell_type": "code",
      "metadata": {
        "colab": {
          "base_uri": "https://localhost:8080/"
        },
        "id": "xNQMLkuEOGG5",
        "outputId": "b1d1e5a2-1508-44a0-c58d-4bc28016fc04"
      },
      "source": [
        "moving_average(np.array([3, 5, 7, 2, 8, 10, 11, 65, 72, 81, 99, 100, 150]),3)"
      ],
      "execution_count": null,
      "outputs": [
        {
          "output_type": "stream",
          "text": [
            "Moving average 1 is 5.0\n",
            "Moving average 2 is 4.666666666666667\n",
            "Moving average 3 is 5.666666666666667\n",
            "Moving average 4 is 6.666666666666667\n",
            "Moving average 5 is 9.666666666666666\n",
            "Moving average 6 is 28.666666666666668\n",
            "Moving average 7 is 49.333333333333336\n",
            "Moving average 8 is 72.66666666666667\n",
            "Moving average 9 is 84.0\n",
            "Moving average 10 is 93.33333333333333\n",
            "Moving average 11 is 116.33333333333333\n"
          ],
          "name": "stdout"
        }
      ]
    },
    {
      "cell_type": "code",
      "metadata": {
        "id": "WX0JCHVwV1UN"
      },
      "source": [
        ""
      ],
      "execution_count": null,
      "outputs": []
    }
  ]
}